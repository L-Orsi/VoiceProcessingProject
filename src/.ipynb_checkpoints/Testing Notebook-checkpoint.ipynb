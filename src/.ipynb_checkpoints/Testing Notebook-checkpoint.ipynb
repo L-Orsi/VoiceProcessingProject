{
 "cells": [
  {
   "cell_type": "code",
   "execution_count": 1,
   "metadata": {},
   "outputs": [],
   "source": [
    "import sounddevice as sd\n",
    "import soundfile as sf\n",
    "import yin as YIN\n",
    "import matplotlib.pyplot as plt\n",
    "import numpy as np"
   ]
  },
  {
   "cell_type": "code",
   "execution_count": 538,
   "metadata": {},
   "outputs": [],
   "source": [
    "# Recording\n",
    "fs = 48000\n",
    "channels = 1\n",
    "recording = sd.rec(30*fs, fs, channels)\n",
    "sd.wait()\n",
    "recording = np.array(recording).reshape(-1)"
   ]
  },
  {
   "cell_type": "code",
   "execution_count": 539,
   "metadata": {},
   "outputs": [
    {
     "data": {
      "text/plain": [
       "[<matplotlib.lines.Line2D at 0x7f62ae42e7f0>]"
      ]
     },
     "execution_count": 539,
     "metadata": {},
     "output_type": "execute_result"
    },
    {
     "data": {
      "image/png": "[encoded data removed]",
      "text/plain": [
       "<Figure size 432x288 with 1 Axes>"
      ]
     },
     "metadata": {},
     "output_type": "display_data"
    }
   ],
   "source": [
    "\n",
    "#hol = sf.read('Chand.wav')\n",
    "#fs = hol[1]\n",
    "#recording = np.array(hol[0][:,0]).reshape(-1)\n",
    "\n",
    "obj = YIN.Yin()\n",
    "pred = obj.yin(recording, fs, w_len=5120, w_step=2560, f0_min=100, f0_max=800, harmo_thresh=0.3)\n",
    "plt.plot(pred[0],'o')"
   ]
  },
  {
   "cell_type": "code",
   "execution_count": 551,
   "metadata": {},
   "outputs": [
    {
     "name": "stderr",
     "output_type": "stream",
     "text": [
      "/home/lucas/.local/lib/python3.6/site-packages/scipy/signal/_arraytools.py:45: FutureWarning: Using a non-tuple sequence for multidimensional indexing is deprecated; use `arr[tuple(seq)]` instead of `arr[seq]`. In the future this will be interpreted as an array index, `arr[np.array(seq)]`, which will result either in an error or a different result.\n",
      "  b = a[a_slice]\n"
     ]
    }
   ],
   "source": [
    "from bisect import bisect_left\n",
    "\n",
    "def get_grid(val, scale='chromatic'):\n",
    "    if scale=='chromatic':\n",
    "        steps = [1]\n",
    "    elif scale=='pentatonic':\n",
    "        steps = [3,2,2,3,2]\n",
    "    elif scale=='minor':\n",
    "        steps = [2,1,2,2,2,1,2]\n",
    "    elif scale=='major':\n",
    "        steps = [2,2,1,2,2,2,1]\n",
    "    for element in np.array(val):\n",
    "        if(element > 100):\n",
    "            main = element\n",
    "            break\n",
    "    ind = 0\n",
    "    tones = [main]\n",
    "    exp = 0\n",
    "    while tones[0] > 100:\n",
    "        ind -= 1\n",
    "        ind = ind % len(steps)\n",
    "        exp -= steps[ind]\n",
    "        tones.insert(0, main*2**(exp/12))\n",
    "    exp = 0\n",
    "    ind = 0\n",
    "    while tones[-1] < 800:\n",
    "        ind += 1\n",
    "        ind = ind % len(steps)\n",
    "        exp += steps[ind]\n",
    "        tones.append(main*2**(exp/12))\n",
    "    return tones\n",
    "\n",
    "def takeClosest(myList, myNumber):\n",
    "    \"\"\"\n",
    "    Assumes myList is sorted. Returns closest value to myNumber.\n",
    "\n",
    "    If two numbers are equally close, return the smallest number.\n",
    "    \"\"\"\n",
    "    pos = bisect_left(myList, myNumber)\n",
    "    if pos == 0:\n",
    "        return myList[0]\n",
    "    if pos == len(myList):\n",
    "        return myList[-1]\n",
    "    before = myList[pos - 1]\n",
    "    after = myList[pos]\n",
    "    if after - myNumber < myNumber - before:\n",
    "        return after\n",
    "    else:\n",
    "        return before\n",
    "\n",
    "def cast_to_grid(val, scale=\"chromatic\"):\n",
    "    quantized = [takeClosest(get_grid(val,scale),a) for a in val]\n",
    "    return quantized\n",
    "    \n",
    "def medianize(arr, size):\n",
    "    ret = []\n",
    "    for ind,val in enumerate(arr):\n",
    "        ret.append(np.median(arr[ind:ind+size]))\n",
    "    return ret\n",
    "        \n",
    "def f_2_midi(v):\n",
    "    ret = []\n",
    "    for a in v:\n",
    "        if a == 0:\n",
    "            ret.append(0)\n",
    "        else:\n",
    "            ret.append(12*np.log2(np.array(a)/440) + 69)\n",
    "    return ret\n",
    "\n",
    "def gen_sound(vector):\n",
    "    test = []\n",
    "    vector = get_grid(vector)\n",
    "    for element in vector:\n",
    "        test.extend(np.hanning(2560)*np.sin(np.pi*2*2*element*np.arange(2560)/fs))\n",
    "\n",
    "    from scipy import signal\n",
    "    def recover(x, nm):\n",
    "        b, a = signal.butter(2, nm, 'low')\n",
    "        z = signal.filtfilt(b, a, x)\n",
    "        return z\n",
    "\n",
    "    test = recover(test, 0.05)\n",
    "    return test\n",
    "  \n",
    "\n",
    "### u = cast_to_grid(pred[0],'chromatic')\n",
    "### uu = medianize(u, 2)\n",
    "test = gen_sound(pred[0])\n",
    "sd.play(test, fs)\n",
    "sd.wait()"
   ]
  },
  {
   "cell_type": "code",
   "execution_count": 541,
   "metadata": {},
   "outputs": [],
   "source": [
    "midnotes = f_2_midi(pred[0])"
   ]
  },
  {
   "cell_type": "code",
   "execution_count": 543,
   "metadata": {},
   "outputs": [],
   "source": [
    "from midiutil import MIDIFile\n",
    "\n",
    "def to_midi(midinotes, fs=48000, blk=2560):\n",
    "    degrees  = midinotes # MIDI note number\n",
    "    track    = 0\n",
    "    channel  = 0\n",
    "    time     = 0   # In beats\n",
    "    duration = 1/8   # In beats\n",
    "    tempo    = 140.625  # In BPM\n",
    "    volume   = 100 # 0-127, as per the MIDI standard\n",
    "\n",
    "    MyMIDI = MIDIFile(1) # One track, defaults to format 1 (tempo track\n",
    "                         # automatically created)\n",
    "    MyMIDI.addTempo(track,time, tempo)\n",
    "    last_p = 0\n",
    "    for index,pitch in enumerate(degrees):\n",
    "        MyMIDI.addNote(track, channel, pitch, time, duration, volume)\n",
    "        duration = 1/8\n",
    "        time += duration\n",
    "\n",
    "    with open(\"sound.mid\", \"wb\") as output_file:\n",
    "        MyMIDI.writeFile(output_file)\n",
    "\n",
    "to_midi(list(np.array(midnotes).astype(int)))"
   ]
  },
  {
   "cell_type": "code",
   "execution_count": 18,
   "metadata": {},
   "outputs": [
    {
     "data": {
      "text/plain": [
       "(240000, 1)"
      ]
     },
     "execution_count": 18,
     "metadata": {},
     "output_type": "execute_result"
    }
   ],
   "source": [
    "recording.shape"
   ]
  },
  {
   "cell_type": "code",
   "execution_count": 280,
   "metadata": {},
   "outputs": [
    {
     "data": {
      "text/plain": [
       "18.75"
      ]
     },
     "execution_count": 280,
     "metadata": {},
     "output_type": "execute_result"
    }
   ],
   "source": [
    "48000/2560"
   ]
  },
  {
   "cell_type": "code",
   "execution_count": 283,
   "metadata": {},
   "outputs": [
    {
     "data": {
      "text/plain": [
       "1125.0"
      ]
     },
     "execution_count": 283,
     "metadata": {},
     "output_type": "execute_result"
    }
   ],
   "source": [
    "48000*60/2560"
   ]
  },
  {
   "cell_type": "code",
   "execution_count": 289,
   "metadata": {},
   "outputs": [
    {
     "data": {
      "text/plain": [
       "8.0"
      ]
     },
     "execution_count": 289,
     "metadata": {},
     "output_type": "execute_result"
    }
   ],
   "source": [
    "1125/140.625"
   ]
  },
  {
   "cell_type": "code",
   "execution_count": 287,
   "metadata": {},
   "outputs": [
    {
     "data": {
      "text/plain": [
       "(array([39.,  0.,  0.,  0.,  0.,  0.,  0., 19., 40., 88.]),\n",
       " array([ 0.        ,  5.92130949, 11.84261897, 17.76392846, 23.68523794,\n",
       "        29.60654743, 35.52785691, 41.4491664 , 47.37047588, 53.29178537,\n",
       "        59.21309485]),\n",
       " <a list of 10 Patch objects>)"
      ]
     },
     "execution_count": 287,
     "metadata": {},
     "output_type": "execute_result"
    },
    {
     "data": {
      "image/png": "[encoded data removed]",
      "text/plain": [
       "<Figure size 432x288 with 1 Axes>"
      ]
     },
     "metadata": {},
     "output_type": "display_data"
    }
   ],
   "source": [
    "plt.hist(midnotes)"
   ]
  },
  {
   "cell_type": "code",
   "execution_count": 295,
   "metadata": {},
   "outputs": [
    {
     "data": {
      "text/plain": [
       "[0,\n",
       " 0,\n",
       " 0,\n",
       " 0,\n",
       " 0,\n",
       " 0,\n",
       " 0,\n",
       " 0,\n",
       " 55,\n",
       " 56,\n",
       " 56,\n",
       " 56,\n",
       " 56,\n",
       " 56,\n",
       " 56,\n",
       " 57,\n",
       " 56,\n",
       " 56,\n",
       " 56,\n",
       " 58,\n",
       " 0,\n",
       " 0,\n",
       " 0,\n",
       " 0,\n",
       " 0,\n",
       " 0,\n",
       " 0,\n",
       " 0,\n",
       " 0,\n",
       " 0,\n",
       " 0,\n",
       " 0,\n",
       " 0,\n",
       " 53,\n",
       " 53,\n",
       " 53,\n",
       " 53,\n",
       " 53,\n",
       " 53,\n",
       " 56,\n",
       " 57,\n",
       " 57,\n",
       " 57,\n",
       " 56,\n",
       " 54,\n",
       " 54,\n",
       " 56,\n",
       " 56,\n",
       " 56,\n",
       " 56,\n",
       " 56,\n",
       " 54,\n",
       " 54,\n",
       " 56,\n",
       " 56,\n",
       " 56,\n",
       " 57,\n",
       " 57,\n",
       " 57,\n",
       " 57,\n",
       " 56,\n",
       " 56,\n",
       " 56,\n",
       " 53,\n",
       " 53,\n",
       " 53,\n",
       " 53,\n",
       " 55,\n",
       " 57,\n",
       " 58,\n",
       " 57,\n",
       " 57,\n",
       " 57,\n",
       " 57,\n",
       " 57,\n",
       " 57,\n",
       " 57,\n",
       " 57,\n",
       " 58,\n",
       " 58,\n",
       " 59,\n",
       " 58,\n",
       " 54,\n",
       " 51,\n",
       " 50,\n",
       " 51,\n",
       " 51,\n",
       " 51,\n",
       " 51,\n",
       " 51,\n",
       " 52,\n",
       " 53,\n",
       " 53,\n",
       " 54,\n",
       " 54,\n",
       " 54,\n",
       " 54,\n",
       " 53,\n",
       " 54,\n",
       " 54,\n",
       " 54,\n",
       " 0,\n",
       " 0,\n",
       " 0,\n",
       " 0,\n",
       " 0,\n",
       " 0,\n",
       " 0,\n",
       " 0,\n",
       " 0,\n",
       " 57,\n",
       " 57,\n",
       " 58,\n",
       " 57,\n",
       " 57,\n",
       " 57,\n",
       " 57,\n",
       " 56,\n",
       " 56,\n",
       " 55,\n",
       " 55,\n",
       " 55,\n",
       " 55,\n",
       " 54,\n",
       " 54,\n",
       " 54,\n",
       " 54,\n",
       " 54,\n",
       " 52,\n",
       " 51,\n",
       " 52,\n",
       " 52,\n",
       " 52,\n",
       " 49,\n",
       " 49,\n",
       " 50,\n",
       " 50,\n",
       " 50,\n",
       " 50,\n",
       " 49,\n",
       " 49,\n",
       " 49,\n",
       " 0,\n",
       " 0,\n",
       " 50,\n",
       " 0,\n",
       " 0,\n",
       " 0,\n",
       " 0,\n",
       " 0,\n",
       " 52,\n",
       " 47,\n",
       " 47,\n",
       " 46,\n",
       " 45,\n",
       " 45,\n",
       " 47,\n",
       " 47,\n",
       " 48,\n",
       " 48,\n",
       " 48,\n",
       " 48,\n",
       " 47,\n",
       " 46,\n",
       " 45,\n",
       " 45,\n",
       " 45,\n",
       " 46,\n",
       " 46,\n",
       " 46,\n",
       " 46,\n",
       " 46,\n",
       " 46,\n",
       " 45,\n",
       " 45,\n",
       " 45,\n",
       " 45,\n",
       " 46,\n",
       " 47,\n",
       " 47,\n",
       " 47,\n",
       " 47,\n",
       " 47,\n",
       " 47,\n",
       " 0,\n",
       " 0]"
      ]
     },
     "execution_count": 295,
     "metadata": {},
     "output_type": "execute_result"
    }
   ],
   "source": [
    "list(np.array(midnotes).astype(int))"
   ]
  },
  {
   "cell_type": "code",
   "execution_count": null,
   "metadata": {},
   "outputs": [],
   "source": []
  }
 ],
 "metadata": {
  "kernelspec": {
   "display_name": "Python 3",
   "language": "python",
   "name": "python3"
  },
  "language_info": {
   "codemirror_mode": {
    "name": "ipython",
    "version": 3
   },
   "file_extension": ".py",
   "mimetype": "text/x-python",
   "name": "python",
   "nbconvert_exporter": "python",
   "pygments_lexer": "ipython3",
   "version": "3.6.5"
  }
 },
 "nbformat": 4,
 "nbformat_minor": 2
}
